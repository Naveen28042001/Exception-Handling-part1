{
 "cells": [
  {
   "cell_type": "code",
   "execution_count": null,
   "id": "80c8496d-ccdf-49a1-a9ce-e96b6d5b3063",
   "metadata": {},
   "outputs": [],
   "source": [
    "Q1.What is an exception in python?Write the difference between Exceptions and syntax errors.\n",
    "\n",
    "\n",
    "In Python, an exception is an event that occurs during the execution of a program that disrupts the normal flow of the program's instructions. \n",
    "When an exceptional situation arises, Python raises an exception, which can be caught and handled by the program. \n",
    "Exceptions are a way of dealing with errors and unexpected situations in a more controlled manner.\n",
    "\n",
    "Exceptions:\n",
    "Cause: Exceptions occur during the execution of a program when an error or unexpected condition arises.\n",
    "Handling: Exceptions can be caught and handled using try, except, else, and finally blocks, allowing the program to respond to errors in a controlled manner.\n",
    "Examples: ZeroDivisionError, TypeError, FileNotFoundError, and others.\n",
    "Runtime: Exceptions are runtime errors that occur during the execution of the program.\n",
    "\n",
    "Syntax Errors:\n",
    "Cause: Syntax errors occur during the parsing of the program. They are caused by violations of the Python syntax rules.\n",
    "Handling: Syntax errors must be fixed before the program can run. They are detected by the Python interpreter during the parsing phase and prevent the program from being executed.\n",
    "Examples: Missing colons, mismatched parentheses, incorrect indentation, and other violations of Python syntax rules.\n",
    "Runtime: Syntax errors prevent the program from running and are detected before execution begins."
   ]
  },
  {
   "cell_type": "code",
   "execution_count": null,
   "id": "b85039b0-50d8-4441-8cad-2f17091ae262",
   "metadata": {},
   "outputs": [],
   "source": [
    "Q2.What happens when exception is not handled? Explain with an example.\n",
    "\n",
    "\n",
    "When an exception is not handled in Python, it propagates up the call stack until it reaches the top level of the program. If no suitable exception handling is found, the program terminates, and an error message, including the details of the unhandled exception, is displayed.\n",
    "\n",
    "Here's an example to illustrate what happens when an exception is not handled:"
   ]
  },
  {
   "cell_type": "code",
   "execution_count": 1,
   "id": "22db8a60-5af1-4b6b-b4a3-de42f85ce7cf",
   "metadata": {},
   "outputs": [
    {
     "ename": "ZeroDivisionError",
     "evalue": "division by zero",
     "output_type": "error",
     "traceback": [
      "\u001b[0;31m---------------------------------------------------------------------------\u001b[0m",
      "\u001b[0;31mZeroDivisionError\u001b[0m                         Traceback (most recent call last)",
      "Cell \u001b[0;32mIn[1], line 6\u001b[0m\n\u001b[1;32m      3\u001b[0m     \u001b[38;5;28;01mreturn\u001b[39;00m result\n\u001b[1;32m      5\u001b[0m \u001b[38;5;66;03m# Triggering an exception by dividing by zero\u001b[39;00m\n\u001b[0;32m----> 6\u001b[0m result \u001b[38;5;241m=\u001b[39m \u001b[43mdivide_numbers\u001b[49m\u001b[43m(\u001b[49m\u001b[38;5;241;43m10\u001b[39;49m\u001b[43m,\u001b[49m\u001b[43m \u001b[49m\u001b[38;5;241;43m0\u001b[39;49m\u001b[43m)\u001b[49m\n\u001b[1;32m      7\u001b[0m \u001b[38;5;28mprint\u001b[39m(\u001b[38;5;124m\"\u001b[39m\u001b[38;5;124mResult:\u001b[39m\u001b[38;5;124m\"\u001b[39m, result)\n",
      "Cell \u001b[0;32mIn[1], line 2\u001b[0m, in \u001b[0;36mdivide_numbers\u001b[0;34m(a, b)\u001b[0m\n\u001b[1;32m      1\u001b[0m \u001b[38;5;28;01mdef\u001b[39;00m \u001b[38;5;21mdivide_numbers\u001b[39m(a, b):\n\u001b[0;32m----> 2\u001b[0m     result \u001b[38;5;241m=\u001b[39m \u001b[43ma\u001b[49m\u001b[43m \u001b[49m\u001b[38;5;241;43m/\u001b[39;49m\u001b[43m \u001b[49m\u001b[43mb\u001b[49m\n\u001b[1;32m      3\u001b[0m     \u001b[38;5;28;01mreturn\u001b[39;00m result\n",
      "\u001b[0;31mZeroDivisionError\u001b[0m: division by zero"
     ]
    }
   ],
   "source": [
    "def divide_numbers(a, b):\n",
    "    result = a / b\n",
    "    return result\n",
    "\n",
    "# Triggering an exception by dividing by zero\n",
    "result = divide_numbers(10, 0)\n",
    "print(\"Result:\", result)"
   ]
  },
  {
   "cell_type": "code",
   "execution_count": null,
   "id": "620f2480-9111-4f10-b443-1289f6cfb1f9",
   "metadata": {},
   "outputs": [],
   "source": [
    "In this example, the divide_numbers function attempts to perform a division operation (a / b). If the divisor (b) is zero, a ZeroDivisionError will be raised."
   ]
  },
  {
   "cell_type": "code",
   "execution_count": null,
   "id": "443cd675-d76f-4655-9840-0dadc25e9e61",
   "metadata": {},
   "outputs": [],
   "source": [
    "In this traceback:\n",
    "  The error occurred in the divide_numbers function at line 2 (result = a / b).\n",
    "  The error type is ZeroDivisionError.\n",
    "  The error message indicates that there was an attempt to perform a division by zero.\n",
    "  If this exception is not handled within the program, the program will terminate abruptly, and the traceback information will be displayed. This can be problematic in production environments or interactive sessions where you want to ensure that your program handles unexpected situations gracefully.\n",
    "    \n",
    "To handle exceptions and prevent program termination, you can use a try-except block to catch and handle specific exceptions:"
   ]
  },
  {
   "cell_type": "code",
   "execution_count": 2,
   "id": "e1c92e8c-26ac-46a6-abaf-21b345d2a73c",
   "metadata": {},
   "outputs": [
    {
     "name": "stdout",
     "output_type": "stream",
     "text": [
      "Error: division by zero\n",
      "Error occurred, result is None.\n"
     ]
    }
   ],
   "source": [
    "def divide_numbers(a, b):\n",
    "    try:\n",
    "        result = a / b\n",
    "        return result\n",
    "    except ZeroDivisionError as e:\n",
    "        print(f\"Error: {e}\")\n",
    "        return None\n",
    "\n",
    "# Using the function with exception handling\n",
    "result = divide_numbers(10, 0)\n",
    "if result is not None:\n",
    "    print(\"Result:\", result)\n",
    "else:\n",
    "    print(\"Error occurred, result is None.\")"
   ]
  },
  {
   "cell_type": "code",
   "execution_count": null,
   "id": "b644dcfb-04c2-4e51-8bd2-3d115f13f86f",
   "metadata": {},
   "outputs": [],
   "source": [
    "In this updated code, the ZeroDivisionError is caught and handled within the try-except block. \n",
    "The program continues to execute, and an appropriate message is printed to indicate that an error occurred. \n",
    "This way, the program doesn't terminate abruptly, and you have the opportunity to handle the exceptional situation gracefully."
   ]
  },
  {
   "cell_type": "code",
   "execution_count": null,
   "id": "2b6dfa5c-6acd-4e04-bf28-acf747f9668b",
   "metadata": {},
   "outputs": [],
   "source": [
    "Q3.Which python statements are used to catch and handle Exceptions? Explain with an example.\n",
    "\n",
    "In Python, the try, except, else, and finally statements are used to catch and handle exceptions. \n",
    "These statements allow you to write code that gracefully handles unexpected situations and avoids abrupt program termination. \n",
    "Here's an explanation of each statement along with an example:\n",
    "\n",
    "1.try and except:\n",
    "  The try block contains the code that might raise an exception.\n",
    "  The except block contains the code to handle the exception if it occurs."
   ]
  },
  {
   "cell_type": "code",
   "execution_count": 3,
   "id": "6b802df4-35a5-49f9-b160-eb43b683a425",
   "metadata": {},
   "outputs": [
    {
     "name": "stdout",
     "output_type": "stream",
     "text": [
      "Error: division by zero\n",
      "Error occurred, result is None.\n"
     ]
    }
   ],
   "source": [
    "def divide_numbers(a, b):\n",
    "    try:\n",
    "        result = a / b\n",
    "        return result\n",
    "    except ZeroDivisionError as e:\n",
    "        print(f\"Error: {e}\")\n",
    "        return None\n",
    "\n",
    "# Example usage with exception handling\n",
    "result = divide_numbers(10, 0)\n",
    "if result is not None:\n",
    "    print(\"Result:\", result)\n",
    "else:\n",
    "    print(\"Error occurred, result is None.\")"
   ]
  },
  {
   "cell_type": "code",
   "execution_count": null,
   "id": "0e76c176-aaf9-4b43-9e99-cfc1d805aebd",
   "metadata": {},
   "outputs": [],
   "source": [
    "In this example, the try block attempts to perform a division operation (a / b). \n",
    "If the divisor (b) is zero, a ZeroDivisionError is caught in the except block, and an error message is printed. \n",
    "The function returns None to indicate that an error occurred.\n",
    "\n",
    "2.else:\n",
    "  The else block contains code that is executed if the try block does not raise any exceptions."
   ]
  },
  {
   "cell_type": "code",
   "execution_count": 4,
   "id": "ddcd5e70-7c9a-4e79-9f7f-bfeecdef2517",
   "metadata": {},
   "outputs": [
    {
     "name": "stdout",
     "output_type": "stream",
     "text": [
      "Division successful!\n",
      "Result: 5.0\n"
     ]
    }
   ],
   "source": [
    "def divide_numbers(a, b):\n",
    "    try:\n",
    "        result = a / b\n",
    "    except ZeroDivisionError as e:\n",
    "        print(f\"Error: {e}\")\n",
    "        return None\n",
    "    else:\n",
    "        print(\"Division successful!\")\n",
    "        return result\n",
    "\n",
    "# Example usage with exception handling\n",
    "result = divide_numbers(10, 2)\n",
    "if result is not None:\n",
    "    print(\"Result:\", result)"
   ]
  },
  {
   "cell_type": "code",
   "execution_count": null,
   "id": "d45f7de9-4d4b-4b45-abec-1d0962425088",
   "metadata": {},
   "outputs": [],
   "source": [
    "In this example, if the division operation in the try block is successful (i.e., no exception is raised), the code in the else block is executed, printing a success message and returning the result.\n",
    "\n",
    "3.finally:\n",
    "  The finally block contains code that is always executed, whether an exception is raised or not. \n",
    "  It is typically used for cleanup operations."
   ]
  },
  {
   "cell_type": "code",
   "execution_count": 5,
   "id": "216b0740-9d2f-4f1d-b4bf-623ba6d5d11a",
   "metadata": {},
   "outputs": [
    {
     "name": "stdout",
     "output_type": "stream",
     "text": [
      "Division successful!\n",
      "This will always be executed.\n",
      "Result: 5.0\n"
     ]
    }
   ],
   "source": [
    "def divide_numbers(a, b):\n",
    "    try:\n",
    "        result = a / b\n",
    "    except ZeroDivisionError as e:\n",
    "        print(f\"Error: {e}\")\n",
    "        return None\n",
    "    else:\n",
    "        print(\"Division successful!\")\n",
    "        return result\n",
    "    finally:\n",
    "        print(\"This will always be executed.\")\n",
    "\n",
    "# Example usage with exception handling\n",
    "result = divide_numbers(10, 2)\n",
    "if result is not None:\n",
    "    print(\"Result:\", result)"
   ]
  },
  {
   "cell_type": "code",
   "execution_count": null,
   "id": "1bd1f4b5-c215-4f7a-b46d-202e7fc7c71e",
   "metadata": {},
   "outputs": [],
   "source": [
    "In this example, the finally block contains a message that will be printed regardless of whether an exception is caught. \n",
    "It is useful for cleanup operations or actions that should always be performed.\n",
    "\n",
    "These statements provide a flexible mechanism for handling exceptions in Python, allowing you to write code that gracefully responds to unexpected situations and ensures that your program doesn't crash unexpectedly."
   ]
  },
  {
   "cell_type": "code",
   "execution_count": null,
   "id": "8e13cf53-1913-48b6-b9a4-5eb4792886a5",
   "metadata": {},
   "outputs": [],
   "source": [
    "Q4.Expalin with an example:\n",
    "  a.try and else\n",
    "  b.finally\n",
    "  c.raise\n"
   ]
  },
  {
   "cell_type": "code",
   "execution_count": null,
   "id": "d9252bb6-7e60-44aa-a0fd-c34e8c3a5d1f",
   "metadata": {},
   "outputs": [],
   "source": [
    "a. try and else:\n",
    "  The try block is used to enclose the code that might raise an exception. \n",
    "  The else block contains code that is executed if the try block completes successfully, i.e., if no exceptions are raised."
   ]
  },
  {
   "cell_type": "code",
   "execution_count": 6,
   "id": "91336971-7a5a-470a-bae8-d9377ea4bf8a",
   "metadata": {},
   "outputs": [
    {
     "name": "stdout",
     "output_type": "stream",
     "text": [
      "Division successful!\n",
      "Result: 5.0\n"
     ]
    }
   ],
   "source": [
    "def divide_numbers(a, b):\n",
    "    try:\n",
    "        result = a / b\n",
    "    except ZeroDivisionError as e:\n",
    "        print(f\"Error: {e}\")\n",
    "    else:\n",
    "        print(\"Division successful!\")\n",
    "        return result\n",
    "\n",
    "# Example usage with exception handling\n",
    "result = divide_numbers(10, 2)\n",
    "if result is not None:\n",
    "    print(\"Result:\", result)"
   ]
  },
  {
   "cell_type": "code",
   "execution_count": null,
   "id": "c017ed82-7593-4426-9ac9-9b90b93ecce2",
   "metadata": {},
   "outputs": [],
   "source": [
    "b. finally:\n",
    "  The finally block contains code that is always executed, regardless of whether an exception is raised or not. \n",
    "  It is typically used for cleanup operations or actions that should always be performed"
   ]
  },
  {
   "cell_type": "code",
   "execution_count": 7,
   "id": "1cf10557-061f-410d-b209-864522de5f35",
   "metadata": {},
   "outputs": [
    {
     "name": "stdout",
     "output_type": "stream",
     "text": [
      "Division successful!\n",
      "This will always be executed.\n",
      "Result: 5.0\n"
     ]
    }
   ],
   "source": [
    "def divide_numbers(a, b):\n",
    "    try:\n",
    "        result = a / b\n",
    "    except ZeroDivisionError as e:\n",
    "        print(f\"Error: {e}\")\n",
    "        return None\n",
    "    else:\n",
    "        print(\"Division successful!\")\n",
    "        return result\n",
    "    finally:\n",
    "        print(\"This will always be executed.\")\n",
    "\n",
    "# Example usage with exception handling\n",
    "result = divide_numbers(10, 2)\n",
    "if result is not None:\n",
    "    print(\"Result:\", result)"
   ]
  },
  {
   "cell_type": "code",
   "execution_count": null,
   "id": "00283e5d-234d-46d5-821e-5ad03f56e526",
   "metadata": {},
   "outputs": [],
   "source": [
    "c. raise:\n",
    "  The raise statement is used to raise an exception explicitly. \n",
    "  This can be useful when you want to handle a specific condition by raising a custom exception."
   ]
  },
  {
   "cell_type": "code",
   "execution_count": 8,
   "id": "4efc8c4a-911a-47df-a2d7-a1829f47490b",
   "metadata": {},
   "outputs": [
    {
     "name": "stdout",
     "output_type": "stream",
     "text": [
      "Error: Age cannot be negative.\n"
     ]
    }
   ],
   "source": [
    "def process_age(age):\n",
    "    if age < 0:\n",
    "        raise ValueError(\"Age cannot be negative.\")\n",
    "    else:\n",
    "        print(f\"Age is: {age}\")\n",
    "\n",
    "# Example usage with raising an exception\n",
    "try:\n",
    "    process_age(-5)\n",
    "except ValueError as e:\n",
    "    print(f\"Error: {e}\")"
   ]
  },
  {
   "cell_type": "code",
   "execution_count": null,
   "id": "d0129f83-ac9d-4b54-acef-3c5115aa13e1",
   "metadata": {},
   "outputs": [],
   "source": [
    "Q5.What are custom Exceptions in python? Why do we need custom Exceptions? Explain with an example.\n",
    "\n",
    "Custom exceptions in Python are user-defined exception classes that allow you to create your own types of exceptions tailored to the specific needs of your application. \n",
    "While Python provides a variety of built-in exception types, there are situations where creating custom exceptions is beneficial for code clarity, organization, and expressing the specific error conditions that your application may encounter.\n",
    "\n",
    "Why do we need custom exceptions?\n",
    "Specificity: \n",
    "    Custom exceptions allow you to provide more specific information about errors that occur in your code. This specificity can aid in debugging and make it easier to understand the cause of an exception.\n",
    "Modularity: \n",
    "    By creating custom exceptions, you can modularize error handling and make it more consistent across different parts of your codebase. This can improve maintainability and readability.\n",
    "Clarity:\n",
    "    Custom exceptions provide a clear indication of the types of errors that your code can encounter, making it easier for developers to understand how to handle those errors."
   ]
  },
  {
   "cell_type": "code",
   "execution_count": 9,
   "id": "8abd91a2-7fc4-45a8-895f-c97513756293",
   "metadata": {},
   "outputs": [
    {
     "name": "stdout",
     "output_type": "stream",
     "text": [
      "Error: Invalid withdrawal: Balance is 100, but attempted to withdraw 150\n"
     ]
    }
   ],
   "source": [
    "class WithdrawalError(Exception):\n",
    "    \"\"\"Custom exception for invalid withdrawal.\"\"\"\n",
    "    def __init__(self, balance, amount):\n",
    "        self.balance = balance\n",
    "        self.amount = amount\n",
    "        super().__init__(f\"Invalid withdrawal: Balance is {balance}, but attempted to withdraw {amount}\")\n",
    "\n",
    "def withdraw_money(balance, amount):\n",
    "    if amount > balance:\n",
    "        raise WithdrawalError(balance, amount)\n",
    "    else:\n",
    "        print(f\"Withdrawal successful. Remaining balance: {balance - amount}\")\n",
    "\n",
    "# Example usage\n",
    "try:\n",
    "    withdraw_money(100, 150)\n",
    "except WithdrawalError as e:\n",
    "    print(f\"Error: {e}\")"
   ]
  },
  {
   "cell_type": "code",
   "execution_count": null,
   "id": "bb40764d-c79c-4165-87a1-0d2d8b42b94f",
   "metadata": {},
   "outputs": [],
   "source": [
    "In this example:\n",
    "  We define a custom exception class WithdrawalError that inherits from the built-in Exception class. This exception is raised when an invalid withdrawal is attempted.\n",
    "  The __init__ method of the custom exception is overridden to allow us to pass additional information about the error, such as the current balance and the attempted withdrawal amount.\n",
    "  The withdraw_money function checks if the withdrawal amount is greater than the balance. If so, it raises the WithdrawalError with details about the error.\n",
    "  In the example usage, we attempt to withdraw an amount greater than the balance. The WithdrawalError is caught in the except block, and the error message provides specific information about the invalid withdrawal.\n",
    "\n",
    "Custom exceptions help improve the clarity and maintainability of your code by providing a way to handle specific error conditions in a more structured and informative manner. They also make it easier to distinguish between different types of errors that may occur in your application."
   ]
  },
  {
   "cell_type": "code",
   "execution_count": null,
   "id": "b6309d01-bc12-4d64-930d-51dbcbf16194",
   "metadata": {},
   "outputs": [],
   "source": [
    "Q6.Create a custom Exception class.use this class to handle an exception."
   ]
  },
  {
   "cell_type": "code",
   "execution_count": 10,
   "id": "9eeb6231-515d-4142-bdc7-3eb16e1b65e8",
   "metadata": {},
   "outputs": [
    {
     "name": "stdout",
     "output_type": "stream",
     "text": [
      "Caught custom exception: CustomValueError: Invalid value - -5\n"
     ]
    }
   ],
   "source": [
    "class CustomValueError(ValueError):\n",
    "    \"\"\"Custom exception for handling a specific value error.\"\"\"\n",
    "    def __init__(self, value):\n",
    "        self.value = value\n",
    "        super().__init__(f\"CustomValueError: Invalid value - {value}\")\n",
    "\n",
    "def process_value(value):\n",
    "    if value < 0:\n",
    "        raise CustomValueError(value)\n",
    "    else:\n",
    "        print(f\"Processing value: {value}\")\n",
    "\n",
    "# Example usage\n",
    "try:\n",
    "    process_value(-5)\n",
    "except CustomValueError as e:\n",
    "    print(f\"Caught custom exception: {e}\")"
   ]
  },
  {
   "cell_type": "code",
   "execution_count": null,
   "id": "bb59d072-3ce6-4ebd-86c9-4b50009425ba",
   "metadata": {},
   "outputs": [],
   "source": [
    "In this example:\n",
    "We define a custom exception class CustomValueError that inherits from the built-in ValueError class. The __init__ method is overridden to provide a custom error message that includes information about the invalid value.\n",
    "The process_value function checks if the provided value is negative. If it is, it raises the CustomValueError with details about the error.\n",
    "In the example usage, we call process_value with a negative value. The CustomValueError is caught in the except block, and the error message provides specific information about the invalid value."
   ]
  }
 ],
 "metadata": {
  "kernelspec": {
   "display_name": "Python 3 (ipykernel)",
   "language": "python",
   "name": "python3"
  },
  "language_info": {
   "codemirror_mode": {
    "name": "ipython",
    "version": 3
   },
   "file_extension": ".py",
   "mimetype": "text/x-python",
   "name": "python",
   "nbconvert_exporter": "python",
   "pygments_lexer": "ipython3",
   "version": "3.10.8"
  }
 },
 "nbformat": 4,
 "nbformat_minor": 5
}
